{
  "nbformat": 4,
  "nbformat_minor": 0,
  "metadata": {
    "colab": {
      "provenance": [],
      "authorship_tag": "ABX9TyMy0YrxeAhXMRo4vPXbDlxQ",
      "include_colab_link": true
    },
    "kernelspec": {
      "name": "python3",
      "display_name": "Python 3"
    },
    "language_info": {
      "name": "python"
    }
  },
  "cells": [
    {
      "cell_type": "markdown",
      "metadata": {
        "id": "view-in-github",
        "colab_type": "text"
      },
      "source": [
        "<a href=\"https://colab.research.google.com/github/Kvishnuq/STOCKPORT-PREDICTIVE-SENTIMENTAL-ANALYSIS/blob/main/sentimental__analysis_using_twitter_sentiments.ipynb\" target=\"_parent\"><img src=\"https://colab.research.google.com/assets/colab-badge.svg\" alt=\"Open In Colab\"/></a>"
      ]
    },
    {
      "cell_type": "code",
      "execution_count": null,
      "metadata": {
        "id": "A5Au8lRCkWs1"
      },
      "outputs": [],
      "source": [
        "# Import necessary libraries\n",
        "from nltk.tokenize import RegexpTokenizer\n",
        "from nltk.stem.porter import PorterStemmer\n",
        "from nltk.corpus import stopwords\n",
        "from sklearn.feature_extraction.text import CountVectorizer\n",
        "from sklearn.naive_bayes import MultinomialNB\n",
        "import nltk\n",
        "\n",
        "# Download stopwords (if not already downloaded)\n",
        "nltk.download('stopwords')\n",
        "\n",
        "# Training data: movie reviews and sentiment labels\n",
        "X_train = [\"This was really awesome an awesome movie\",\n",
        "           \"Great movie! I liked it a lot\",\n",
        "           \"Happy Ending! Awesome Acting by hero\",\n",
        "           \"loved it!\",\n",
        "           \"Bad not up to the mark\",\n",
        "           \"Could have been better\",\n",
        "           \"Really disappointed by the movie\"]\n",
        "\n",
        "y_train = [\"positive\", \"positive\", \"positive\", \"positive\", \"negative\", \"negative\", \"negative\"]\n",
        "\n",
        "# Test data: input sentence for sentiment prediction\n",
        "X_test = [\"it was not good\"]\n",
        "\n",
        "# Tokenizer, stemmer, and stopwords\n",
        "tokenizer = RegexpTokenizer(r\"\\w+\")\n",
        "en_stopwords = set(stopwords.words('english'))\n",
        "ps = PorterStemmer()\n",
        "\n",
        "# Clean and preprocess the text\n",
        "def getCleanedText(text):\n",
        "    text = text.lower()\n",
        "    tokens = tokenizer.tokenize(text)\n",
        "    new_tokens = [token for token in tokens if token not in en_stopwords]\n",
        "    stemmed_tokens = [ps.stem(token) for token in new_tokens]\n",
        "    clean_text = \" \".join(stemmed_tokens)\n",
        "    return clean_text\n",
        "\n",
        "X_clean = [getCleanedText(review) for review in X_train]\n",
        "Xt_clean = [getCleanedText(review) for review in X_test]\n",
        "\n",
        "# Vectorize the text using CountVectorizer\n",
        "cv = CountVectorizer(ngram_range=(1, 2))\n",
        "X_vec = cv.fit_transform(X_clean).toarray()\n",
        "Xt_vec = cv.transform(Xt_clean).toarray()\n",
        "\n",
        "# Multinomial Naive Bayes classifier\n",
        "mn = MultinomialNB()\n",
        "mn.fit(X_vec, y_train)\n",
        "\n",
        "# Predict sentiment for the test data\n",
        "y_pred = mn.predict(Xt_vec)\n",
        "\n",
        "# Print the predicted sentiment\n",
        "print(\"Predicted Sentiment:\", y_pred[0])"
      ]
    }
  ]
}